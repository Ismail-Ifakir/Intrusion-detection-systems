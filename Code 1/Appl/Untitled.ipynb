{
 "cells": [
  {
   "cell_type": "code",
   "execution_count": 1,
   "id": "da04303e",
   "metadata": {},
   "outputs": [
    {
     "name": "stdout",
     "output_type": "stream",
     "text": [
      " * Serving Flask app '__main__'\n",
      " * Debug mode: off\n"
     ]
    },
    {
     "name": "stderr",
     "output_type": "stream",
     "text": [
      "WARNING: This is a development server. Do not use it in a production deployment. Use a production WSGI server instead.\n",
      " * Running on all addresses (0.0.0.0)\n",
      " * Running on http://127.0.0.1:5000\n",
      " * Running on http://100.88.208.161:5000\n",
      "Press CTRL+C to quit\n",
      "127.0.0.1 - - [09/Oct/2023 20:59:49] \"GET / HTTP/1.1\" 200 -\n",
      "127.0.0.1 - - [09/Oct/2023 20:59:49] \"GET /static/css/style.css HTTP/1.1\" 304 -\n",
      "127.0.0.1 - - [09/Oct/2023 20:59:49] \"GET /favicon.ico HTTP/1.1\" 404 -\n",
      "127.0.0.1 - - [09/Oct/2023 21:02:41] \"POST /predict HTTP/1.1\" 200 -\n",
      "127.0.0.1 - - [09/Oct/2023 21:02:42] \"GET /static/css/style.css HTTP/1.1\" 304 -\n",
      "127.0.0.1 - - [09/Oct/2023 21:05:37] \"POST /predict HTTP/1.1\" 200 -\n",
      "127.0.0.1 - - [09/Oct/2023 21:05:37] \"GET /static/css/style.css HTTP/1.1\" 304 -\n"
     ]
    }
   ],
   "source": [
    "import numpy as np\n",
    "from flask import Flask, request, jsonify, render_template\n",
    "import pickle\n",
    "\n",
    "app = Flask(__name__)\n",
    "model = pickle.load(open('model.pkl', 'rb'))\n",
    "\n",
    "@app.route('/')\n",
    "def home():\n",
    "    return render_template('index.html')\n",
    "\n",
    "@app.route('/predict', methods=['POST'])\n",
    "def predict():\n",
    "    '''\n",
    "    For rendering results on HTML GUI\n",
    "    '''\n",
    "    int_features = [float(x) for x in request.form.values()]\n",
    "    final_features = [np.array(int_features)]\n",
    "    prediction = model.predict(final_features)\n",
    "\n",
    "    output = prediction[0]  # No need for rounding here\n",
    "\n",
    "    return render_template('index.html', prediction_text=' {}'.format(output))\n",
    "\n",
    "\n",
    "if __name__==\"__main__\":\n",
    "    app.run(host='0.0.0.0')"
   ]
  },
  {
   "cell_type": "code",
   "execution_count": null,
   "id": "973c4218",
   "metadata": {},
   "outputs": [],
   "source": []
  }
 ],
 "metadata": {
  "kernelspec": {
   "display_name": "Python 3 (ipykernel)",
   "language": "python",
   "name": "python3"
  },
  "language_info": {
   "codemirror_mode": {
    "name": "ipython",
    "version": 3
   },
   "file_extension": ".py",
   "mimetype": "text/x-python",
   "name": "python",
   "nbconvert_exporter": "python",
   "pygments_lexer": "ipython3",
   "version": "3.11.4"
  }
 },
 "nbformat": 4,
 "nbformat_minor": 5
}
